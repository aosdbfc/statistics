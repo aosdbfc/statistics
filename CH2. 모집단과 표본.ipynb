{
 "cells": [
  {
   "cell_type": "markdown",
   "id": "5116d527",
   "metadata": {},
   "source": [
    "# 모집단과 표본\n",
    "## 데이터 분석 목적과 대상 설정\n",
    "\n",
    "- 모집단을 알기 위한 전수조사와 표본조사의 개요도 간단하게 정리\n",
    "- 이들 방법과 그 사고방식은 통계학의 많은 데이터 분석에 공통되는 내용이므로, 반드시 이해해야한다."
   ]
  },
  {
   "cell_type": "markdown",
   "id": "74cd4768",
   "metadata": {},
   "source": [
    "## 2.1 데이터 분석의 목적과 알고자 하는 대상\n",
    "\n",
    "### 데이터 분석의 목적\n",
    "\n",
    "- 1장에서는 데이터 분석의 주된 목적이 대상의 요약이나 설명,예측이라고 했습니다.\n",
    "- 구체적인 데이터 분석 목적을 정하는 것이 중요한 첫 단계입니다.\n",
    "- 데이터 분석의 목적에 따라 어떤 실험이나 관측으로 데이터를 얻어야 할지, 어떻게 데이터를 분석해야 할지가 달라지기 때문입니다.\n",
    "\n",
    "----------------------------------------------------------------------------------------------------------------------------\n",
    "\n",
    "#### 사례 \n",
    "\n",
    "- 신약의 효과 유무와 효과의 크기를 알고 싶다.\n",
    "- 소득과 행복도 사이에 어떤 관계가 있는지 알고 싶다.\n",
    "- 기온으로부터 올해 농작물 수확량을 예측하고 싶다."
   ]
  },
  {
   "cell_type": "code",
   "execution_count": 1,
   "id": "685d95d4",
   "metadata": {},
   "outputs": [
    {
     "data": {
      "image/png": "[encoded data removed]",
      "text/plain": [
       "<Figure size 640x480 with 1 Axes>"
      ]
     },
     "metadata": {},
     "output_type": "display_data"
    }
   ],
   "source": [
    "import matplotlib.pyplot as plt\n",
    "\n",
    "# 신약 위약 데이터 (예시)\n",
    "drug_effects = [2.5, 3.2, 1.8, 4.5, 2.9, 3.7, 2.1, 3.8, 3.1, 2.6]\n",
    "\n",
    "# 혈압 데이터 (예시)\n",
    "blood_pressures = [80, 85, 90, 92, 88, 86, 91, 87, 89, 93]\n",
    "\n",
    "# 신약 위약과 혈압을 함께 표시하는 히스토그램 그리기\n",
    "plt.hist([drug_effects, blood_pressures], bins=5, color=['blue', 'red'], label=['Drug Effects', 'Blood Pressure'])\n",
    "\n",
    "plt.xlabel('Drug Effects')\n",
    "plt.ylabel('Frequency')\n",
    "plt.title('Histogram of Drug Effects and Blood Pressure')\n",
    "plt.legend()\n",
    "\n",
    "plt.show()\n"
   ]
  },
  {
   "cell_type": "markdown",
   "id": "1fc730bc",
   "metadata": {},
   "source": [
    "## 알고자 하는 대상\n",
    "\n",
    "- 데이터 분석의 목적을 정했다면, 다음으로는 알고자 하는 대상을 명확히 하는 것이 중요합니다."
   ]
  },
  {
   "cell_type": "markdown",
   "id": "4f6a4001",
   "metadata": {},
   "source": [
    "## 모집단 \n",
    "\n",
    "### 모집단을 생각하다\n",
    "\n",
    "- 통계학에서는 알고자 하는 대상 전체를 모집단이라 합니다.\n",
    "- 가령 한국인 성인 남성의 키를 알고 싶다면, 한국인 성인 남성 전원을 모집단으로 설정합니다.\n",
    "- 데이터를 분석할 때는, 데이터 분석 목적과 알고자 하는 대상에 기초하여 직접 모집단을 설정해야 합니다.\n",
    "- 단, 알고자 하는 대상이 전체일지라도, 실제로 데이터를 얻을 가능성이 없는 요소를 포함한 모집단은 적절하지 않습니다.\n",
    "- 예를 들어 모든 고혈압 환자를 대상으로 하고 싶지만 모종의 이유로 여성 환자의 데이터를 얻을 수 없는 경우에는, 고혈압 남성 환자를 모집단으로 설정하는 것이 적절합니다. 이는 분석 결과의 일반화와도 관련된 중요한 지점입니다. \n",
    "\n",
    "-------------------------------------------------------------------------------------------------------------------------------------\n",
    "\n",
    "- '지금 알고자 하는 대상은 무엇인지' 그리고 '무엇을 모집단으로 설정할 것인지'의 문제에는 항상 주의를 기울여야 합니다."
   ]
  },
  {
   "cell_type": "markdown",
   "id": "6767bf07",
   "metadata": {},
   "source": [
    "### 모집단 크기\n",
    "\n",
    "- 모집단에 포함된 요소(element)의 수를 모집단 크기라 합니다.\n",
    "- 모집단은 그 크기에 따라 다음과 같이 유한모집단과 무한모집단으로 나눌 수 있습니다.\n",
    "\n",
    "-----------------------------------------------------------------------------------------------------------------------------------\n",
    "\n",
    "#### 유한모집단\n",
    "\n",
    "- 모집단 중 한정된 요소만 포함한 것을 유한모집단이라 합니다.\n",
    "- 예시로, 한국인을 모집단으로 삼을 수 있습니다. 2020년 기준 5137만 명이라는 한정된 요소로 구성되기 때문에 유한모집단이 됩니다.\n",
    "- 유한모집단인 경우 원칙적으로 모든 요소를 조사하는 것이 가능하지만, 시간과 비용이 많이 드는 탓에 현실적이지 않다는 문제가 있습니다.\n",
    "- 또한 이 한국인 모집단은 출생, 사고, 사망 등 숫자가 시간에 따라 변하므로 유한의 성질을 유지하는 것이 어려울 수 있습니다.\n",
    "- 따라서 엄밀하게는 유한모집단이라 규정하는 것이 어렵습니다.\n",
    "\n",
    "------------------------------------------------------------------------------------------------------------------------------------\n",
    "\n",
    "#### 무한모집단\n",
    "\n",
    "- 모집단 중 포함된 요소의 개수가 무한한 것을, 무한모집단이라고 합니다.\n",
    "- 무한모집단에서는 유한모집단과 달리 포함된 요소 전부를 조사한다는 것은 원칙적으로 불가능한 일입니다."
   ]
  },
  {
   "cell_type": "code",
   "execution_count": 2,
   "id": "3d150e86",
   "metadata": {},
   "outputs": [
    {
     "name": "stdout",
     "output_type": "stream",
     "text": [
      "Sample: [137, 130, 125, 136, 127, 125, 138, 122, 126, 130]\n"
     ]
    }
   ],
   "source": [
    "import random\n",
    "\n",
    "# 성인 남자의 혈압 데이터가 있는 모집단 설정 (예시)\n",
    "population = [120, 125, 130, 135, 140, 125, 130, 128, 135, 132, 138, 122, 130, 127, 133, 137, 129, 136, 126, 131]\n",
    "\n",
    "# 샘플 크기 설정\n",
    "sample_size = 10\n",
    "\n",
    "# 모집단에서 샘플 추출\n",
    "sample = random.sample(population, sample_size)\n",
    "\n",
    "# 추출된 샘플 출력\n",
    "print(\"Sample:\", sample)"
   ]
  },
  {
   "cell_type": "markdown",
   "id": "91d275d1",
   "metadata": {},
   "source": [
    "## 모집단의 성질을 알다\n",
    "\n",
    "- 모집단의 성질: 모집단의 성질을 알 수 있다면 대상을 설명하거나 이해할 수 있고, 미지의 데이터를 예측할 수도 있게 됩니다.\n",
    "- 모집단의 성질이란 모집단에 포함된 요소를 특징 짓는 값입니다.\n",
    "\n",
    "------------------------------------------------------------------------------------------------------------------------------------\n",
    "\n",
    ">예시\n",
    "\n",
    "- 한국인 남성의 평균 키는 172.5cm이다.\n",
    "- 이 주사위의 모든 눈이 균등하게 나온다.\n",
    "- 한국인 여성의 평균 결혼 나이는 32살이다."
   ]
  },
  {
   "cell_type": "markdown",
   "id": "d5386113",
   "metadata": {},
   "source": [
    "> 전수조사 : 모집단의 포함된 모든 요소를 조사하는 방법\n",
    "\n",
    "- 전수조사의 경우, '분석할 데이터 = 모집단'\n",
    "- 획득한 데이터의 특징을 파악하고 기술하기만 해도, 모집단의 성질을 설명하고 이해할 수 있습니다.\n",
    "- 전수조사를 실시하려면 비용, 시간 면에서 부담이 막대하여 실현이 불가능할 때가 대부분"
   ]
  },
  {
   "cell_type": "markdown",
   "id": "65037efe",
   "metadata": {},
   "source": [
    "> 표본조사 : 모집단의 일부를 분석하여 모집단 전체의 성질을 추정하는 추론통계가 있습니다. \n",
    "\n",
    "### 표본 \n",
    "\n",
    "- 표본의 정의: 추론통계에서 조사하는 모집단의 일부를 표본이라고 한다.\n",
    "- 모집단에서 표본을 뽑는 것을 표본추출이라 합니다.\n",
    "- 표본을 이용해 모집단의 성질을 조사하는 것을 표본조사라 부릅니다.\n",
    "- 예시) 선거 출구 조사, TV 시청률 조사 등\n",
    "\n",
    "> 추론통계는 '추론'이라는 말에서 알 수 있듯이 모집단의 성질을 100% 알긴 어렵습니다. 어느 정도 불확실성을 염두에 두고 평가하게 됩니다."
   ]
  },
  {
   "cell_type": "code",
   "execution_count": null,
   "id": "c80b84d6",
   "metadata": {},
   "outputs": [],
   "source": []
  }
 ],
 "metadata": {
  "kernelspec": {
   "display_name": "Python 3 (ipykernel)",
   "language": "python",
   "name": "python3"
  },
  "language_info": {
   "codemirror_mode": {
    "name": "ipython",
    "version": 3
   },
   "file_extension": ".py",
   "mimetype": "text/x-python",
   "name": "python",
   "nbconvert_exporter": "python",
   "pygments_lexer": "ipython3",
   "version": "3.9.13"
  }
 },
 "nbformat": 4,
 "nbformat_minor": 5
}
